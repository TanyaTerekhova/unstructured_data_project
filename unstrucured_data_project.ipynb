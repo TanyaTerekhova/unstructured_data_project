{
 "cells": [
  {
   "cell_type": "markdown",
   "metadata": {},
   "source": [
    "#### На этот раз данные имеют следующую структуру:\n",
    "\n",
    "записываются для каждого пользователя, совершившего покупки, каждый день\n",
    "для каждой даты есть своя папка, внутри неё – папки для каждого пользователя\n",
    "внутри каждой папки есть файл data.csv, где и хранятся данные\n",
    "Схематично выглядит так:\n",
    "\n",
    "└── data\n",
    "\n",
    "   ├── 2020-12-30\n",
    "   \n",
    "   │  ├── FirstName_LastName1\n",
    "   \n",
    "   │  │   └── data.csv\n",
    "   \n",
    "   │  ├── FirstName_LastName2\n",
    "   \n",
    "   │  │   └── data.csv\n",
    "   \n",
    "   │  └── FirstName_LastName3\n",
    "   \n",
    "   │      └── data.csv\n",
    "   \n",
    "   └── 2020-12-31\n",
    "   \n",
    "      ├── FirstName_LastName1\n",
    "      \n",
    "      │   └── data.csv\n",
    "      \n",
    "      └── FirstName_LastName5\n",
    "      \n",
    "          └── data.csv\n",
    "          \n",
    "Например, 30 декабря три покупателя сделали покупки, 31 – два \n",
    "(папки 2020-12-30 и 2020-12-31 соответственно). Поскольку клиент FirstName_LastName1 купил товары в оба дня, для него имеется папка в папке для каждой из дат. Для других клиентов – по одной.\n",
    "\n",
    "Note: данные в задании покрывают другой временной период, имена тоже другие. Подробности, примеры и возможные подсказки можно найти в текстах следующих шагов.\n",
    "\n",
    "      \n",
    "\n",
    "#### Задачи\n",
    "1. Соберите все данные из папки data в один датафрэйм, имеющий следующие столбцы: колонки из самих файлов (product_id, quantity), а также имя пользователя (name), и дата этих покупок (date), соответствует названию папки, где лежит папка с пользователем)\n",
    "2. Выясните, какой пользователь купил больше всего товаров. Если их несколько, то перечислите имена через запятую с пробелом и в алфавитном порядке.\n",
    "3. Найдите топ-10 товаров по числу проданных единиц за всё время и постройте барплот. Сколько было продано единиц товара с product_id==56?\n",
    "4. Визуализируйте продажи по дням.\n",
    "5. Сколько пользователей приобрели какой-либо товар повторно (более 1 раза)? Повтором будем считать покупку товара с одинаковым product_id, совершенную в разные дни. "
   ]
  },
  {
   "cell_type": "code",
   "execution_count": 1,
   "metadata": {},
   "outputs": [],
   "source": [
    "import pandas as pd\n",
    "import os\n",
    "import seaborn as sns"
   ]
  },
  {
   "cell_type": "markdown",
   "metadata": {},
   "source": [
    "**Соберите все данные из папки data в один датафрэйм, имеющий следующие столбцы: колонки из самих файлов (product_id, quantity), имя пользователя (name), и дату этих покупок (date), соответствует названию папки, где лежит папка с пользователем).**"
   ]
  },
  {
   "cell_type": "code",
   "execution_count": 3,
   "metadata": {},
   "outputs": [
    {
     "data": {
      "text/plain": [
       "['2020-12-06',\n",
       " '2020-12-08',\n",
       " '2020-12-09',\n",
       " '2020-12-07',\n",
       " '2020-12-05',\n",
       " '2020-12-03',\n",
       " '2020-12-04']"
      ]
     },
     "execution_count": 3,
     "metadata": {},
     "output_type": "execute_result"
    }
   ],
   "source": [
    "os.listdir('data')\n",
    "# в пути доходим до той папки, в которой хранятся папки, названия которых нужны для данных в итоговом датафрейме"
   ]
  },
  {
   "cell_type": "code",
   "execution_count": 4,
   "metadata": {},
   "outputs": [
    {
     "data": {
      "text/plain": [
       "'/Users/tatanaterehova/Documents/courses/karpov/python/lesson_4'"
      ]
     },
     "execution_count": 4,
     "metadata": {},
     "output_type": "execute_result"
    }
   ],
   "source": [
    "os.getcwd()\n",
    "# если папка не открывается, проверяем, в какой директории сейчас находимся"
   ]
  },
  {
   "cell_type": "code",
   "execution_count": 5,
   "metadata": {},
   "outputs": [],
   "source": [
    "path = 'data'\n",
    "# сохраняем путь до папки, содержащей папки с нужными названиями\n",
    "# теперь нужно просто перебрать все такие пути и добраться до каждого из файлов. Один из способов сделать это - использовать os.walk\n",
    "# в цикле"
   ]
  },
  {
   "cell_type": "code",
   "execution_count": 6,
   "metadata": {},
   "outputs": [
    {
     "data": {
      "text/plain": [
       "<generator object _walk at 0x7fbdc822cf20>"
      ]
     },
     "execution_count": 6,
     "metadata": {},
     "output_type": "execute_result"
    }
   ],
   "source": [
    "os.walk(path)"
   ]
  },
  {
   "cell_type": "code",
   "execution_count": 7,
   "metadata": {},
   "outputs": [
    {
     "data": {
      "text/plain": [
       "[('data',\n",
       "  ['2020-12-06',\n",
       "   '2020-12-08',\n",
       "   '2020-12-09',\n",
       "   '2020-12-07',\n",
       "   '2020-12-05',\n",
       "   '2020-12-03',\n",
       "   '2020-12-04'],\n",
       "  []),\n",
       " ('data/2020-12-06', ['Vasiliy_Fedorov'], []),\n",
       " ('data/2020-12-06/Vasiliy_Fedorov', [], ['data.csv']),\n",
       " ('data/2020-12-08',\n",
       "  ['Alexey_Fedorov',\n",
       "   'Anton_Smirnov',\n",
       "   'Kirill_Smirnov',\n",
       "   'Rostislav_Petrov',\n",
       "   'Petr_Petrov'],\n",
       "  []),\n",
       " ('data/2020-12-08/Alexey_Fedorov', [], ['data.csv']),\n",
       " ('data/2020-12-08/Anton_Smirnov', [], ['data.csv']),\n",
       " ('data/2020-12-08/Kirill_Smirnov', [], ['data.csv']),\n",
       " ('data/2020-12-08/Rostislav_Petrov', [], ['data.csv']),\n",
       " ('data/2020-12-08/Petr_Petrov', [], ['data.csv']),\n",
       " ('data/2020-12-09',\n",
       "  ['Anton_Ivanov',\n",
       "   'Anton_Smirnov',\n",
       "   'Rostislav_Petrov',\n",
       "   'Petr_Fedorov',\n",
       "   'Alexey_Smirnov',\n",
       "   'Anton_Petrov',\n",
       "   'Vasiliy_Ivanov'],\n",
       "  []),\n",
       " ('data/2020-12-09/Anton_Ivanov', [], ['data.csv']),\n",
       " ('data/2020-12-09/Anton_Smirnov', [], ['data.csv']),\n",
       " ('data/2020-12-09/Rostislav_Petrov', [], ['data.csv']),\n",
       " ('data/2020-12-09/Petr_Fedorov', [], ['data.csv']),\n",
       " ('data/2020-12-09/Alexey_Smirnov', [], ['data.csv']),\n",
       " ('data/2020-12-09/Anton_Petrov', [], ['data.csv']),\n",
       " ('data/2020-12-09/Vasiliy_Ivanov', [], ['data.csv']),\n",
       " ('data/2020-12-07',\n",
       "  ['Petr_Smirnov',\n",
       "   'Anton_Ivanov',\n",
       "   'Rostislav_Fedorov',\n",
       "   'Alexey_Fedorov',\n",
       "   'Anton_Smirnov',\n",
       "   'Petr_Fedorov',\n",
       "   'Alexey_Smirnov',\n",
       "   'Vasiliy_Ivanov',\n",
       "   'Kirill_Fedorov',\n",
       "   'Alexey_Ivanov'],\n",
       "  []),\n",
       " ('data/2020-12-07/Petr_Smirnov', [], ['data.csv']),\n",
       " ('data/2020-12-07/Anton_Ivanov', [], ['data.csv']),\n",
       " ('data/2020-12-07/Rostislav_Fedorov', [], ['data.csv']),\n",
       " ('data/2020-12-07/Alexey_Fedorov', [], ['data.csv']),\n",
       " ('data/2020-12-07/Anton_Smirnov', [], ['data.csv']),\n",
       " ('data/2020-12-07/Petr_Fedorov', [], ['data.csv']),\n",
       " ('data/2020-12-07/Alexey_Smirnov', [], ['data.csv']),\n",
       " ('data/2020-12-07/Vasiliy_Ivanov', [], ['data.csv']),\n",
       " ('data/2020-12-07/Kirill_Fedorov', [], ['data.csv']),\n",
       " ('data/2020-12-07/Alexey_Ivanov', [], ['data.csv']),\n",
       " ('data/2020-12-05',\n",
       "  ['Petr_Smirnov',\n",
       "   'Alexey_Fedorov',\n",
       "   'Petr_Ivanov',\n",
       "   'Alexey_Petrov',\n",
       "   'Kirill_Smirnov',\n",
       "   'Rostislav_Smirnov'],\n",
       "  []),\n",
       " ('data/2020-12-05/Petr_Smirnov', [], ['data.csv']),\n",
       " ('data/2020-12-05/Alexey_Fedorov', [], ['data.csv']),\n",
       " ('data/2020-12-05/Petr_Ivanov', [], ['data.csv']),\n",
       " ('data/2020-12-05/Alexey_Petrov', [], ['data.csv']),\n",
       " ('data/2020-12-05/Kirill_Smirnov', [], ['data.csv']),\n",
       " ('data/2020-12-05/Rostislav_Smirnov', [], ['data.csv']),\n",
       " ('data/2020-12-03',\n",
       "  ['Vasiliy_Petrov',\n",
       "   'Petr_Fedorov',\n",
       "   'Alexey_Smirnov',\n",
       "   'Anton_Petrov',\n",
       "   'Vasiliy_Ivanov',\n",
       "   'Kirill_Petrov'],\n",
       "  []),\n",
       " ('data/2020-12-03/Vasiliy_Petrov', [], ['data.csv']),\n",
       " ('data/2020-12-03/Petr_Fedorov', [], ['data.csv']),\n",
       " ('data/2020-12-03/Alexey_Smirnov', [], ['data.csv']),\n",
       " ('data/2020-12-03/Anton_Petrov', [], ['data.csv']),\n",
       " ('data/2020-12-03/Vasiliy_Ivanov', [], ['data.csv']),\n",
       " ('data/2020-12-03/Kirill_Petrov', [], ['data.csv']),\n",
       " ('data/2020-12-04',\n",
       "  ['Petr_Smirnov',\n",
       "   'Rostislav_Fedorov',\n",
       "   'Rostislav_Ivanov',\n",
       "   'Petr_Ivanov',\n",
       "   'Petr_Fedorov',\n",
       "   'Alexey_Smirnov',\n",
       "   'Rostislav_Smirnov',\n",
       "   'Vasiliy_Ivanov',\n",
       "   'Kirill_Fedorov'],\n",
       "  []),\n",
       " ('data/2020-12-04/Petr_Smirnov', [], ['data.csv']),\n",
       " ('data/2020-12-04/Rostislav_Fedorov', [], ['data.csv']),\n",
       " ('data/2020-12-04/Rostislav_Ivanov', [], ['data.csv']),\n",
       " ('data/2020-12-04/Petr_Ivanov', [], ['data.csv']),\n",
       " ('data/2020-12-04/Petr_Fedorov', [], ['data.csv']),\n",
       " ('data/2020-12-04/Alexey_Smirnov', [], ['data.csv']),\n",
       " ('data/2020-12-04/Rostislav_Smirnov', [], ['data.csv']),\n",
       " ('data/2020-12-04/Vasiliy_Ivanov', [], ['data.csv']),\n",
       " ('data/2020-12-04/Kirill_Fedorov', [], ['data.csv'])]"
      ]
     },
     "execution_count": 7,
     "metadata": {},
     "output_type": "execute_result"
    }
   ],
   "source": [
    "list(os.walk(path))\n",
    "# видим, что в листе хранятся кортежи с данными в следующем формате: путь, список папок по данному пути, список файлов. И таким образом\n",
    "# os.walk() пробегает по всем папкам и файлам по указанному пути. Теперь в цикле можно сразу считывать путь, папки, файлы"
   ]
  },
  {
   "cell_type": "code",
   "execution_count": 8,
   "metadata": {},
   "outputs": [],
   "source": [
    "# Создаем df для всех данных\n",
    "df = pd.DataFrame()\n",
    "# Считываем все файлы данных и добавляем их в общий df\n",
    "for current_path, dirs, files in os.walk(path):\n",
    "    for file in files:\n",
    "#         вложенный цикл создаем для того, чтобы пробегаться по всем файлам внутри папки; в нашем случае файл один, но в общем\n",
    "#         случае файлов может быть сколько угодно\n",
    "        data_path = f'{current_path}/{file}'\n",
    "#         если указать просто file в качестве пути для файла, то получим ошибку, потому что файл будет искаться в домашней директории,\n",
    "#         следовательно, путь нужно каждый раз перезаписывать\n",
    "        temp_df = pd.read_csv(data_path)\n",
    "#         name, date\n",
    "#         добавляем колонки date, name, которые достаем из текущего пути, разбив его с помощью split()\n",
    "        path_parts = current_path.split('/') \n",
    "        date = path_parts[-2]\n",
    "        name = path_parts[-1]\n",
    "        temp_df['date'] = date\n",
    "        temp_df['name'] = name\n",
    "        \n",
    "        df = pd.concat((df, temp_df))\n",
    "        \n",
    "       \n",
    "        \n"
   ]
  },
  {
   "cell_type": "code",
   "execution_count": 9,
   "metadata": {},
   "outputs": [],
   "source": [
    "df.drop(columns=['Unnamed: 0'], inplace=True)"
   ]
  },
  {
   "cell_type": "code",
   "execution_count": 10,
   "metadata": {},
   "outputs": [],
   "source": [
    "df.reset_index(drop=True, inplace=True) # индексы шли вразнобой, повторялись, поэтому их просто скинули. Drop указываем\n",
    "# для того, чтобы новый столбец с индексами тоже скидывался"
   ]
  },
  {
   "cell_type": "code",
   "execution_count": 11,
   "metadata": {},
   "outputs": [
    {
     "data": {
      "text/html": [
       "<div>\n",
       "<style scoped>\n",
       "    .dataframe tbody tr th:only-of-type {\n",
       "        vertical-align: middle;\n",
       "    }\n",
       "\n",
       "    .dataframe tbody tr th {\n",
       "        vertical-align: top;\n",
       "    }\n",
       "\n",
       "    .dataframe thead th {\n",
       "        text-align: right;\n",
       "    }\n",
       "</style>\n",
       "<table border=\"1\" class=\"dataframe\">\n",
       "  <thead>\n",
       "    <tr style=\"text-align: right;\">\n",
       "      <th></th>\n",
       "      <th>product_id</th>\n",
       "      <th>quantity</th>\n",
       "      <th>date</th>\n",
       "      <th>name</th>\n",
       "    </tr>\n",
       "  </thead>\n",
       "  <tbody>\n",
       "    <tr>\n",
       "      <th>0</th>\n",
       "      <td>56</td>\n",
       "      <td>4</td>\n",
       "      <td>2020-12-06</td>\n",
       "      <td>Vasiliy_Fedorov</td>\n",
       "    </tr>\n",
       "    <tr>\n",
       "      <th>1</th>\n",
       "      <td>97</td>\n",
       "      <td>3</td>\n",
       "      <td>2020-12-06</td>\n",
       "      <td>Vasiliy_Fedorov</td>\n",
       "    </tr>\n",
       "    <tr>\n",
       "      <th>2</th>\n",
       "      <td>79</td>\n",
       "      <td>3</td>\n",
       "      <td>2020-12-06</td>\n",
       "      <td>Vasiliy_Fedorov</td>\n",
       "    </tr>\n",
       "    <tr>\n",
       "      <th>3</th>\n",
       "      <td>29</td>\n",
       "      <td>5</td>\n",
       "      <td>2020-12-06</td>\n",
       "      <td>Vasiliy_Fedorov</td>\n",
       "    </tr>\n",
       "    <tr>\n",
       "      <th>4</th>\n",
       "      <td>73</td>\n",
       "      <td>5</td>\n",
       "      <td>2020-12-08</td>\n",
       "      <td>Alexey_Fedorov</td>\n",
       "    </tr>\n",
       "    <tr>\n",
       "      <th>...</th>\n",
       "      <td>...</td>\n",
       "      <td>...</td>\n",
       "      <td>...</td>\n",
       "      <td>...</td>\n",
       "    </tr>\n",
       "    <tr>\n",
       "      <th>156</th>\n",
       "      <td>3</td>\n",
       "      <td>4</td>\n",
       "      <td>2020-12-04</td>\n",
       "      <td>Kirill_Fedorov</td>\n",
       "    </tr>\n",
       "    <tr>\n",
       "      <th>157</th>\n",
       "      <td>89</td>\n",
       "      <td>5</td>\n",
       "      <td>2020-12-04</td>\n",
       "      <td>Kirill_Fedorov</td>\n",
       "    </tr>\n",
       "    <tr>\n",
       "      <th>158</th>\n",
       "      <td>75</td>\n",
       "      <td>2</td>\n",
       "      <td>2020-12-04</td>\n",
       "      <td>Kirill_Fedorov</td>\n",
       "    </tr>\n",
       "    <tr>\n",
       "      <th>159</th>\n",
       "      <td>41</td>\n",
       "      <td>5</td>\n",
       "      <td>2020-12-04</td>\n",
       "      <td>Kirill_Fedorov</td>\n",
       "    </tr>\n",
       "    <tr>\n",
       "      <th>160</th>\n",
       "      <td>32</td>\n",
       "      <td>4</td>\n",
       "      <td>2020-12-04</td>\n",
       "      <td>Kirill_Fedorov</td>\n",
       "    </tr>\n",
       "  </tbody>\n",
       "</table>\n",
       "<p>161 rows × 4 columns</p>\n",
       "</div>"
      ],
      "text/plain": [
       "     product_id  quantity        date             name\n",
       "0            56         4  2020-12-06  Vasiliy_Fedorov\n",
       "1            97         3  2020-12-06  Vasiliy_Fedorov\n",
       "2            79         3  2020-12-06  Vasiliy_Fedorov\n",
       "3            29         5  2020-12-06  Vasiliy_Fedorov\n",
       "4            73         5  2020-12-08   Alexey_Fedorov\n",
       "..          ...       ...         ...              ...\n",
       "156           3         4  2020-12-04   Kirill_Fedorov\n",
       "157          89         5  2020-12-04   Kirill_Fedorov\n",
       "158          75         2  2020-12-04   Kirill_Fedorov\n",
       "159          41         5  2020-12-04   Kirill_Fedorov\n",
       "160          32         4  2020-12-04   Kirill_Fedorov\n",
       "\n",
       "[161 rows x 4 columns]"
      ]
     },
     "execution_count": 11,
     "metadata": {},
     "output_type": "execute_result"
    }
   ],
   "source": [
    "df"
   ]
  },
  {
   "cell_type": "code",
   "execution_count": 12,
   "metadata": {},
   "outputs": [
    {
     "data": {
      "text/plain": [
       "480"
      ]
     },
     "execution_count": 12,
     "metadata": {},
     "output_type": "execute_result"
    }
   ],
   "source": [
    "df.quantity.sum()"
   ]
  },
  {
   "cell_type": "markdown",
   "metadata": {},
   "source": [
    "**Сделаем то же самое другим способом**"
   ]
  },
  {
   "cell_type": "code",
   "execution_count": 13,
   "metadata": {},
   "outputs": [],
   "source": [
    "from pathlib import Path\n",
    "# Path создает объект PosixPath из строки с путем"
   ]
  },
  {
   "cell_type": "code",
   "execution_count": 14,
   "metadata": {},
   "outputs": [],
   "source": [
    "path = Path('data')"
   ]
  },
  {
   "cell_type": "code",
   "execution_count": 15,
   "metadata": {},
   "outputs": [
    {
     "data": {
      "text/plain": [
       "['__bytes__',\n",
       " '__class__',\n",
       " '__class_getitem__',\n",
       " '__delattr__',\n",
       " '__dir__',\n",
       " '__doc__',\n",
       " '__enter__',\n",
       " '__eq__',\n",
       " '__exit__',\n",
       " '__format__',\n",
       " '__fspath__',\n",
       " '__ge__',\n",
       " '__getattribute__',\n",
       " '__gt__',\n",
       " '__hash__',\n",
       " '__init__',\n",
       " '__init_subclass__',\n",
       " '__le__',\n",
       " '__lt__',\n",
       " '__module__',\n",
       " '__ne__',\n",
       " '__new__',\n",
       " '__reduce__',\n",
       " '__reduce_ex__',\n",
       " '__repr__',\n",
       " '__rtruediv__',\n",
       " '__setattr__',\n",
       " '__sizeof__',\n",
       " '__slots__',\n",
       " '__str__',\n",
       " '__subclasshook__',\n",
       " '__truediv__',\n",
       " '_accessor',\n",
       " '_cached_cparts',\n",
       " '_cparts',\n",
       " '_drv',\n",
       " '_format_parsed_parts',\n",
       " '_from_parsed_parts',\n",
       " '_from_parts',\n",
       " '_hash',\n",
       " '_init',\n",
       " '_make_child',\n",
       " '_make_child_relpath',\n",
       " '_opener',\n",
       " '_parse_args',\n",
       " '_parts',\n",
       " '_pparts',\n",
       " '_raw_open',\n",
       " '_root',\n",
       " '_str',\n",
       " 'absolute',\n",
       " 'anchor',\n",
       " 'as_posix',\n",
       " 'as_uri',\n",
       " 'chmod',\n",
       " 'cwd',\n",
       " 'drive',\n",
       " 'exists',\n",
       " 'expanduser',\n",
       " 'glob',\n",
       " 'group',\n",
       " 'home',\n",
       " 'is_absolute',\n",
       " 'is_block_device',\n",
       " 'is_char_device',\n",
       " 'is_dir',\n",
       " 'is_fifo',\n",
       " 'is_file',\n",
       " 'is_mount',\n",
       " 'is_relative_to',\n",
       " 'is_reserved',\n",
       " 'is_socket',\n",
       " 'is_symlink',\n",
       " 'iterdir',\n",
       " 'joinpath',\n",
       " 'lchmod',\n",
       " 'link_to',\n",
       " 'lstat',\n",
       " 'match',\n",
       " 'mkdir',\n",
       " 'name',\n",
       " 'open',\n",
       " 'owner',\n",
       " 'parent',\n",
       " 'parents',\n",
       " 'parts',\n",
       " 'read_bytes',\n",
       " 'read_text',\n",
       " 'readlink',\n",
       " 'relative_to',\n",
       " 'rename',\n",
       " 'replace',\n",
       " 'resolve',\n",
       " 'rglob',\n",
       " 'rmdir',\n",
       " 'root',\n",
       " 'samefile',\n",
       " 'stat',\n",
       " 'stem',\n",
       " 'suffix',\n",
       " 'suffixes',\n",
       " 'symlink_to',\n",
       " 'touch',\n",
       " 'unlink',\n",
       " 'with_name',\n",
       " 'with_stem',\n",
       " 'with_suffix',\n",
       " 'write_bytes',\n",
       " 'write_text']"
      ]
     },
     "execution_count": 15,
     "metadata": {},
     "output_type": "execute_result"
    }
   ],
   "source": [
    "dir(Path) # все атрибуты и методы объекта Path"
   ]
  },
  {
   "cell_type": "code",
   "execution_count": 16,
   "metadata": {},
   "outputs": [],
   "source": [
    "df = pd.DataFrame()\n",
    "for current_path, dirs, files in os.walk(path):\n",
    "    for file in files:\n",
    "        part_path = Path(current_path)\n",
    "        data_path = part_path / file\n",
    "        temp_df = pd.read_csv(data_path)\n",
    "        \n",
    "        # выделяем дату и имя\n",
    "        date = data_path.parts[-3]\n",
    "        name = data_path.parts[-2]\n",
    "        \n",
    "        # добавляем нужные столбцы\n",
    "        temp_df['date'] = date\n",
    "        temp_df['name'] = name\n",
    "        \n",
    "        df = pd.concat((df, temp_df))\n",
    "        \n",
    "df.drop(columns=['Unnamed: 0'], inplace=True)\n",
    "df.reset_index(drop=True, inplace=True)"
   ]
  },
  {
   "cell_type": "code",
   "execution_count": 17,
   "metadata": {},
   "outputs": [
    {
     "data": {
      "text/plain": [
       "('data', '2020-12-04', 'Kirill_Fedorov', 'data.csv')"
      ]
     },
     "execution_count": 17,
     "metadata": {},
     "output_type": "execute_result"
    }
   ],
   "source": [
    "data_path.parts"
   ]
  },
  {
   "cell_type": "code",
   "execution_count": 18,
   "metadata": {},
   "outputs": [
    {
     "data": {
      "text/html": [
       "<div>\n",
       "<style scoped>\n",
       "    .dataframe tbody tr th:only-of-type {\n",
       "        vertical-align: middle;\n",
       "    }\n",
       "\n",
       "    .dataframe tbody tr th {\n",
       "        vertical-align: top;\n",
       "    }\n",
       "\n",
       "    .dataframe thead th {\n",
       "        text-align: right;\n",
       "    }\n",
       "</style>\n",
       "<table border=\"1\" class=\"dataframe\">\n",
       "  <thead>\n",
       "    <tr style=\"text-align: right;\">\n",
       "      <th></th>\n",
       "      <th>product_id</th>\n",
       "      <th>quantity</th>\n",
       "      <th>date</th>\n",
       "      <th>name</th>\n",
       "    </tr>\n",
       "  </thead>\n",
       "  <tbody>\n",
       "    <tr>\n",
       "      <th>0</th>\n",
       "      <td>56</td>\n",
       "      <td>4</td>\n",
       "      <td>2020-12-06</td>\n",
       "      <td>Vasiliy_Fedorov</td>\n",
       "    </tr>\n",
       "    <tr>\n",
       "      <th>1</th>\n",
       "      <td>97</td>\n",
       "      <td>3</td>\n",
       "      <td>2020-12-06</td>\n",
       "      <td>Vasiliy_Fedorov</td>\n",
       "    </tr>\n",
       "    <tr>\n",
       "      <th>2</th>\n",
       "      <td>79</td>\n",
       "      <td>3</td>\n",
       "      <td>2020-12-06</td>\n",
       "      <td>Vasiliy_Fedorov</td>\n",
       "    </tr>\n",
       "    <tr>\n",
       "      <th>3</th>\n",
       "      <td>29</td>\n",
       "      <td>5</td>\n",
       "      <td>2020-12-06</td>\n",
       "      <td>Vasiliy_Fedorov</td>\n",
       "    </tr>\n",
       "    <tr>\n",
       "      <th>4</th>\n",
       "      <td>73</td>\n",
       "      <td>5</td>\n",
       "      <td>2020-12-08</td>\n",
       "      <td>Alexey_Fedorov</td>\n",
       "    </tr>\n",
       "    <tr>\n",
       "      <th>...</th>\n",
       "      <td>...</td>\n",
       "      <td>...</td>\n",
       "      <td>...</td>\n",
       "      <td>...</td>\n",
       "    </tr>\n",
       "    <tr>\n",
       "      <th>156</th>\n",
       "      <td>3</td>\n",
       "      <td>4</td>\n",
       "      <td>2020-12-04</td>\n",
       "      <td>Kirill_Fedorov</td>\n",
       "    </tr>\n",
       "    <tr>\n",
       "      <th>157</th>\n",
       "      <td>89</td>\n",
       "      <td>5</td>\n",
       "      <td>2020-12-04</td>\n",
       "      <td>Kirill_Fedorov</td>\n",
       "    </tr>\n",
       "    <tr>\n",
       "      <th>158</th>\n",
       "      <td>75</td>\n",
       "      <td>2</td>\n",
       "      <td>2020-12-04</td>\n",
       "      <td>Kirill_Fedorov</td>\n",
       "    </tr>\n",
       "    <tr>\n",
       "      <th>159</th>\n",
       "      <td>41</td>\n",
       "      <td>5</td>\n",
       "      <td>2020-12-04</td>\n",
       "      <td>Kirill_Fedorov</td>\n",
       "    </tr>\n",
       "    <tr>\n",
       "      <th>160</th>\n",
       "      <td>32</td>\n",
       "      <td>4</td>\n",
       "      <td>2020-12-04</td>\n",
       "      <td>Kirill_Fedorov</td>\n",
       "    </tr>\n",
       "  </tbody>\n",
       "</table>\n",
       "<p>161 rows × 4 columns</p>\n",
       "</div>"
      ],
      "text/plain": [
       "     product_id  quantity        date             name\n",
       "0            56         4  2020-12-06  Vasiliy_Fedorov\n",
       "1            97         3  2020-12-06  Vasiliy_Fedorov\n",
       "2            79         3  2020-12-06  Vasiliy_Fedorov\n",
       "3            29         5  2020-12-06  Vasiliy_Fedorov\n",
       "4            73         5  2020-12-08   Alexey_Fedorov\n",
       "..          ...       ...         ...              ...\n",
       "156           3         4  2020-12-04   Kirill_Fedorov\n",
       "157          89         5  2020-12-04   Kirill_Fedorov\n",
       "158          75         2  2020-12-04   Kirill_Fedorov\n",
       "159          41         5  2020-12-04   Kirill_Fedorov\n",
       "160          32         4  2020-12-04   Kirill_Fedorov\n",
       "\n",
       "[161 rows x 4 columns]"
      ]
     },
     "execution_count": 18,
     "metadata": {},
     "output_type": "execute_result"
    }
   ],
   "source": [
    "df"
   ]
  },
  {
   "cell_type": "markdown",
   "metadata": {},
   "source": [
    "**Еще один способ**"
   ]
  },
  {
   "cell_type": "code",
   "execution_count": 19,
   "metadata": {},
   "outputs": [],
   "source": [
    "path = 'data'"
   ]
  },
  {
   "cell_type": "code",
   "execution_count": 20,
   "metadata": {
    "scrolled": true
   },
   "outputs": [
    {
     "data": {
      "text/plain": [
       "[PosixPath('data/2020-12-06/Vasiliy_Fedorov/data.csv'),\n",
       " PosixPath('data/2020-12-08/Alexey_Fedorov/data.csv'),\n",
       " PosixPath('data/2020-12-08/Anton_Smirnov/data.csv'),\n",
       " PosixPath('data/2020-12-08/Kirill_Smirnov/data.csv'),\n",
       " PosixPath('data/2020-12-08/Rostislav_Petrov/data.csv'),\n",
       " PosixPath('data/2020-12-08/Petr_Petrov/data.csv'),\n",
       " PosixPath('data/2020-12-09/Anton_Ivanov/data.csv'),\n",
       " PosixPath('data/2020-12-09/Anton_Smirnov/data.csv'),\n",
       " PosixPath('data/2020-12-09/Rostislav_Petrov/data.csv'),\n",
       " PosixPath('data/2020-12-09/Petr_Fedorov/data.csv'),\n",
       " PosixPath('data/2020-12-09/Alexey_Smirnov/data.csv'),\n",
       " PosixPath('data/2020-12-09/Anton_Petrov/data.csv'),\n",
       " PosixPath('data/2020-12-09/Vasiliy_Ivanov/data.csv'),\n",
       " PosixPath('data/2020-12-07/Petr_Smirnov/data.csv'),\n",
       " PosixPath('data/2020-12-07/Anton_Ivanov/data.csv'),\n",
       " PosixPath('data/2020-12-07/Rostislav_Fedorov/data.csv'),\n",
       " PosixPath('data/2020-12-07/Alexey_Fedorov/data.csv'),\n",
       " PosixPath('data/2020-12-07/Anton_Smirnov/data.csv'),\n",
       " PosixPath('data/2020-12-07/Petr_Fedorov/data.csv'),\n",
       " PosixPath('data/2020-12-07/Alexey_Smirnov/data.csv'),\n",
       " PosixPath('data/2020-12-07/Vasiliy_Ivanov/data.csv'),\n",
       " PosixPath('data/2020-12-07/Kirill_Fedorov/data.csv'),\n",
       " PosixPath('data/2020-12-07/Alexey_Ivanov/data.csv'),\n",
       " PosixPath('data/2020-12-05/Petr_Smirnov/data.csv'),\n",
       " PosixPath('data/2020-12-05/Alexey_Fedorov/data.csv'),\n",
       " PosixPath('data/2020-12-05/Petr_Ivanov/data.csv'),\n",
       " PosixPath('data/2020-12-05/Alexey_Petrov/data.csv'),\n",
       " PosixPath('data/2020-12-05/Kirill_Smirnov/data.csv'),\n",
       " PosixPath('data/2020-12-05/Rostislav_Smirnov/data.csv'),\n",
       " PosixPath('data/2020-12-03/Vasiliy_Petrov/data.csv'),\n",
       " PosixPath('data/2020-12-03/Petr_Fedorov/data.csv'),\n",
       " PosixPath('data/2020-12-03/Alexey_Smirnov/data.csv'),\n",
       " PosixPath('data/2020-12-03/Anton_Petrov/data.csv'),\n",
       " PosixPath('data/2020-12-03/Vasiliy_Ivanov/data.csv'),\n",
       " PosixPath('data/2020-12-03/Kirill_Petrov/data.csv'),\n",
       " PosixPath('data/2020-12-04/Petr_Smirnov/data.csv'),\n",
       " PosixPath('data/2020-12-04/Rostislav_Fedorov/data.csv'),\n",
       " PosixPath('data/2020-12-04/Rostislav_Ivanov/data.csv'),\n",
       " PosixPath('data/2020-12-04/Petr_Ivanov/data.csv'),\n",
       " PosixPath('data/2020-12-04/Petr_Fedorov/data.csv'),\n",
       " PosixPath('data/2020-12-04/Alexey_Smirnov/data.csv'),\n",
       " PosixPath('data/2020-12-04/Rostislav_Smirnov/data.csv'),\n",
       " PosixPath('data/2020-12-04/Vasiliy_Ivanov/data.csv'),\n",
       " PosixPath('data/2020-12-04/Kirill_Fedorov/data.csv')]"
      ]
     },
     "execution_count": 20,
     "metadata": {},
     "output_type": "execute_result"
    }
   ],
   "source": [
    "miniproject_path = Path(path)\n",
    "list(miniproject_path.glob('**/*.csv'))\n",
    "# ** - можно опускаться на любое число директорий с любыми названиями\n",
    "# * - любые символы перед .csv"
   ]
  },
  {
   "cell_type": "code",
   "execution_count": 21,
   "metadata": {},
   "outputs": [],
   "source": [
    "df = pd.DataFrame()\n",
    "\n",
    "for csv_path in miniproject_path.glob('**/*.csv'):\n",
    "    temp_df = pd.read_csv(csv_path)\n",
    "    # выделяем дату и имя\n",
    "    date = csv_path.parts[-3]\n",
    "    name = csv_path.parts[-2]\n",
    "        \n",
    "        # добавляем нужные столбцы\n",
    "    temp_df['date'] = date\n",
    "    temp_df['name'] = name\n",
    "    \n",
    "    df = pd.concat((df, temp_df))\n",
    "df.drop(columns=['Unnamed: 0'], inplace=True)\n",
    "df.reset_index(drop=True, inplace=True)"
   ]
  },
  {
   "cell_type": "code",
   "execution_count": 22,
   "metadata": {},
   "outputs": [
    {
     "data": {
      "text/html": [
       "<div>\n",
       "<style scoped>\n",
       "    .dataframe tbody tr th:only-of-type {\n",
       "        vertical-align: middle;\n",
       "    }\n",
       "\n",
       "    .dataframe tbody tr th {\n",
       "        vertical-align: top;\n",
       "    }\n",
       "\n",
       "    .dataframe thead th {\n",
       "        text-align: right;\n",
       "    }\n",
       "</style>\n",
       "<table border=\"1\" class=\"dataframe\">\n",
       "  <thead>\n",
       "    <tr style=\"text-align: right;\">\n",
       "      <th></th>\n",
       "      <th>product_id</th>\n",
       "      <th>quantity</th>\n",
       "      <th>date</th>\n",
       "      <th>name</th>\n",
       "    </tr>\n",
       "  </thead>\n",
       "  <tbody>\n",
       "    <tr>\n",
       "      <th>0</th>\n",
       "      <td>56</td>\n",
       "      <td>4</td>\n",
       "      <td>2020-12-06</td>\n",
       "      <td>Vasiliy_Fedorov</td>\n",
       "    </tr>\n",
       "    <tr>\n",
       "      <th>1</th>\n",
       "      <td>97</td>\n",
       "      <td>3</td>\n",
       "      <td>2020-12-06</td>\n",
       "      <td>Vasiliy_Fedorov</td>\n",
       "    </tr>\n",
       "    <tr>\n",
       "      <th>2</th>\n",
       "      <td>79</td>\n",
       "      <td>3</td>\n",
       "      <td>2020-12-06</td>\n",
       "      <td>Vasiliy_Fedorov</td>\n",
       "    </tr>\n",
       "    <tr>\n",
       "      <th>3</th>\n",
       "      <td>29</td>\n",
       "      <td>5</td>\n",
       "      <td>2020-12-06</td>\n",
       "      <td>Vasiliy_Fedorov</td>\n",
       "    </tr>\n",
       "    <tr>\n",
       "      <th>4</th>\n",
       "      <td>73</td>\n",
       "      <td>5</td>\n",
       "      <td>2020-12-08</td>\n",
       "      <td>Alexey_Fedorov</td>\n",
       "    </tr>\n",
       "    <tr>\n",
       "      <th>...</th>\n",
       "      <td>...</td>\n",
       "      <td>...</td>\n",
       "      <td>...</td>\n",
       "      <td>...</td>\n",
       "    </tr>\n",
       "    <tr>\n",
       "      <th>156</th>\n",
       "      <td>3</td>\n",
       "      <td>4</td>\n",
       "      <td>2020-12-04</td>\n",
       "      <td>Kirill_Fedorov</td>\n",
       "    </tr>\n",
       "    <tr>\n",
       "      <th>157</th>\n",
       "      <td>89</td>\n",
       "      <td>5</td>\n",
       "      <td>2020-12-04</td>\n",
       "      <td>Kirill_Fedorov</td>\n",
       "    </tr>\n",
       "    <tr>\n",
       "      <th>158</th>\n",
       "      <td>75</td>\n",
       "      <td>2</td>\n",
       "      <td>2020-12-04</td>\n",
       "      <td>Kirill_Fedorov</td>\n",
       "    </tr>\n",
       "    <tr>\n",
       "      <th>159</th>\n",
       "      <td>41</td>\n",
       "      <td>5</td>\n",
       "      <td>2020-12-04</td>\n",
       "      <td>Kirill_Fedorov</td>\n",
       "    </tr>\n",
       "    <tr>\n",
       "      <th>160</th>\n",
       "      <td>32</td>\n",
       "      <td>4</td>\n",
       "      <td>2020-12-04</td>\n",
       "      <td>Kirill_Fedorov</td>\n",
       "    </tr>\n",
       "  </tbody>\n",
       "</table>\n",
       "<p>161 rows × 4 columns</p>\n",
       "</div>"
      ],
      "text/plain": [
       "     product_id  quantity        date             name\n",
       "0            56         4  2020-12-06  Vasiliy_Fedorov\n",
       "1            97         3  2020-12-06  Vasiliy_Fedorov\n",
       "2            79         3  2020-12-06  Vasiliy_Fedorov\n",
       "3            29         5  2020-12-06  Vasiliy_Fedorov\n",
       "4            73         5  2020-12-08   Alexey_Fedorov\n",
       "..          ...       ...         ...              ...\n",
       "156           3         4  2020-12-04   Kirill_Fedorov\n",
       "157          89         5  2020-12-04   Kirill_Fedorov\n",
       "158          75         2  2020-12-04   Kirill_Fedorov\n",
       "159          41         5  2020-12-04   Kirill_Fedorov\n",
       "160          32         4  2020-12-04   Kirill_Fedorov\n",
       "\n",
       "[161 rows x 4 columns]"
      ]
     },
     "execution_count": 22,
     "metadata": {},
     "output_type": "execute_result"
    }
   ],
   "source": [
    "df"
   ]
  },
  {
   "cell_type": "markdown",
   "metadata": {},
   "source": [
    "**Выясните, какой пользователь купил больше всего товаров. Если их несколько, то перечислите имена через запятую с пробелом и в алфавитном порядке. Например:**\n",
    "\n",
    "**Anatoly_Karpov, Nekto_Ktotovich, Lena_Uhanova, Ignat, Sasha_Tokarev**"
   ]
  },
  {
   "cell_type": "code",
   "execution_count": 23,
   "metadata": {},
   "outputs": [
    {
     "data": {
      "text/html": [
       "<div>\n",
       "<style scoped>\n",
       "    .dataframe tbody tr th:only-of-type {\n",
       "        vertical-align: middle;\n",
       "    }\n",
       "\n",
       "    .dataframe tbody tr th {\n",
       "        vertical-align: top;\n",
       "    }\n",
       "\n",
       "    .dataframe thead th {\n",
       "        text-align: right;\n",
       "    }\n",
       "</style>\n",
       "<table border=\"1\" class=\"dataframe\">\n",
       "  <thead>\n",
       "    <tr style=\"text-align: right;\">\n",
       "      <th></th>\n",
       "      <th>name</th>\n",
       "      <th>quantity</th>\n",
       "    </tr>\n",
       "  </thead>\n",
       "  <tbody>\n",
       "    <tr>\n",
       "      <th>3</th>\n",
       "      <td>Alexey_Smirnov</td>\n",
       "      <td>52</td>\n",
       "    </tr>\n",
       "    <tr>\n",
       "      <th>13</th>\n",
       "      <td>Petr_Smirnov</td>\n",
       "      <td>52</td>\n",
       "    </tr>\n",
       "    <tr>\n",
       "      <th>6</th>\n",
       "      <td>Anton_Smirnov</td>\n",
       "      <td>45</td>\n",
       "    </tr>\n",
       "    <tr>\n",
       "      <th>10</th>\n",
       "      <td>Petr_Fedorov</td>\n",
       "      <td>34</td>\n",
       "    </tr>\n",
       "    <tr>\n",
       "      <th>7</th>\n",
       "      <td>Kirill_Fedorov</td>\n",
       "      <td>28</td>\n",
       "    </tr>\n",
       "    <tr>\n",
       "      <th>16</th>\n",
       "      <td>Rostislav_Petrov</td>\n",
       "      <td>28</td>\n",
       "    </tr>\n",
       "    <tr>\n",
       "      <th>19</th>\n",
       "      <td>Vasiliy_Ivanov</td>\n",
       "      <td>27</td>\n",
       "    </tr>\n",
       "    <tr>\n",
       "      <th>0</th>\n",
       "      <td>Alexey_Fedorov</td>\n",
       "      <td>24</td>\n",
       "    </tr>\n",
       "    <tr>\n",
       "      <th>4</th>\n",
       "      <td>Anton_Ivanov</td>\n",
       "      <td>23</td>\n",
       "    </tr>\n",
       "    <tr>\n",
       "      <th>11</th>\n",
       "      <td>Petr_Ivanov</td>\n",
       "      <td>21</td>\n",
       "    </tr>\n",
       "    <tr>\n",
       "      <th>5</th>\n",
       "      <td>Anton_Petrov</td>\n",
       "      <td>18</td>\n",
       "    </tr>\n",
       "    <tr>\n",
       "      <th>9</th>\n",
       "      <td>Kirill_Smirnov</td>\n",
       "      <td>17</td>\n",
       "    </tr>\n",
       "    <tr>\n",
       "      <th>1</th>\n",
       "      <td>Alexey_Ivanov</td>\n",
       "      <td>17</td>\n",
       "    </tr>\n",
       "    <tr>\n",
       "      <th>17</th>\n",
       "      <td>Rostislav_Smirnov</td>\n",
       "      <td>17</td>\n",
       "    </tr>\n",
       "    <tr>\n",
       "      <th>14</th>\n",
       "      <td>Rostislav_Fedorov</td>\n",
       "      <td>16</td>\n",
       "    </tr>\n",
       "    <tr>\n",
       "      <th>18</th>\n",
       "      <td>Vasiliy_Fedorov</td>\n",
       "      <td>15</td>\n",
       "    </tr>\n",
       "    <tr>\n",
       "      <th>12</th>\n",
       "      <td>Petr_Petrov</td>\n",
       "      <td>14</td>\n",
       "    </tr>\n",
       "    <tr>\n",
       "      <th>8</th>\n",
       "      <td>Kirill_Petrov</td>\n",
       "      <td>9</td>\n",
       "    </tr>\n",
       "    <tr>\n",
       "      <th>15</th>\n",
       "      <td>Rostislav_Ivanov</td>\n",
       "      <td>9</td>\n",
       "    </tr>\n",
       "    <tr>\n",
       "      <th>2</th>\n",
       "      <td>Alexey_Petrov</td>\n",
       "      <td>7</td>\n",
       "    </tr>\n",
       "    <tr>\n",
       "      <th>20</th>\n",
       "      <td>Vasiliy_Petrov</td>\n",
       "      <td>7</td>\n",
       "    </tr>\n",
       "  </tbody>\n",
       "</table>\n",
       "</div>"
      ],
      "text/plain": [
       "                 name  quantity\n",
       "3      Alexey_Smirnov        52\n",
       "13       Petr_Smirnov        52\n",
       "6       Anton_Smirnov        45\n",
       "10       Petr_Fedorov        34\n",
       "7      Kirill_Fedorov        28\n",
       "16   Rostislav_Petrov        28\n",
       "19     Vasiliy_Ivanov        27\n",
       "0      Alexey_Fedorov        24\n",
       "4        Anton_Ivanov        23\n",
       "11        Petr_Ivanov        21\n",
       "5        Anton_Petrov        18\n",
       "9      Kirill_Smirnov        17\n",
       "1       Alexey_Ivanov        17\n",
       "17  Rostislav_Smirnov        17\n",
       "14  Rostislav_Fedorov        16\n",
       "18    Vasiliy_Fedorov        15\n",
       "12        Petr_Petrov        14\n",
       "8       Kirill_Petrov         9\n",
       "15   Rostislav_Ivanov         9\n",
       "2       Alexey_Petrov         7\n",
       "20     Vasiliy_Petrov         7"
      ]
     },
     "execution_count": 23,
     "metadata": {},
     "output_type": "execute_result"
    }
   ],
   "source": [
    "df.groupby('name', as_index=False).agg({'quantity': 'sum'}).sort_values(by='quantity', ascending=False)"
   ]
  },
  {
   "cell_type": "markdown",
   "metadata": {},
   "source": [
    "**Найдите топ-10 товаров по числу проданных единиц за всё время и постройте барплот (столбчатую диаграмму, sns.barplot), где:**\n",
    "\n",
    "**по оси x – идентификаторы товаров (product_id)** \n",
    "\n",
    "**по оси y – суммарное число их покупок (сколько товаров с таким product_id было продано)**\n",
    "\n",
    "**Для практики попробуйте изменить параметры графика: цвет (color), прозрачность (alpha), сортировку значений по оси х (order).** \n",
    "\n",
    "**В качестве ответа укажите, сколько было продано единиц товара с product_id равным 56.**"
   ]
  },
  {
   "cell_type": "code",
   "execution_count": 24,
   "metadata": {},
   "outputs": [],
   "source": [
    "top10 = df.groupby('product_id', as_index=False).agg({'quantity': 'sum'}).sort_values(by='quantity', ascending=False).head(10)"
   ]
  },
  {
   "cell_type": "code",
   "execution_count": 25,
   "metadata": {
    "scrolled": true
   },
   "outputs": [
    {
     "name": "stderr",
     "output_type": "stream",
     "text": [
      "/Users/tatanaterehova/opt/anaconda3/lib/python3.9/site-packages/seaborn/_decorators.py:36: FutureWarning: Pass the following variables as keyword args: x, y. From version 0.12, the only valid positional argument will be `data`, and passing other arguments without an explicit keyword will result in an error or misinterpretation.\n",
      "  warnings.warn(\n"
     ]
    },
    {
     "data": {
      "text/plain": [
       "<AxesSubplot:xlabel='product_id', ylabel='quantity'>"
      ]
     },
     "execution_count": 25,
     "metadata": {},
     "output_type": "execute_result"
    },
    {
     "data": {
      "image/png": "[encoded data removed]",
      "text/plain": [
       "<Figure size 432x288 with 1 Axes>"
      ]
     },
     "metadata": {
      "needs_background": "light"
     },
     "output_type": "display_data"
    }
   ],
   "source": [
    "sns.barplot(top10.product_id, top10.quantity, palette=['#9b59b6', '#3498db', '#95a5a6', '#e74c3c', '#34495e'])\n",
    "# если указать в палитре меньше цветов, чем столбцов в барплоте, эти цвета будут повторяться по кругу"
   ]
  },
  {
   "cell_type": "markdown",
   "metadata": {},
   "source": [
    "**Посмотрим на продажи по дням! Для визуализации снова используйте барплот, только теперь по оси x будут дни, по которым у нас есть данные (date).** "
   ]
  },
  {
   "cell_type": "code",
   "execution_count": 26,
   "metadata": {},
   "outputs": [],
   "source": [
    "quan_vs_date = df.groupby('date', as_index=False).agg({'quantity': 'sum'})"
   ]
  },
  {
   "cell_type": "code",
   "execution_count": 27,
   "metadata": {},
   "outputs": [
    {
     "name": "stderr",
     "output_type": "stream",
     "text": [
      "/Users/tatanaterehova/opt/anaconda3/lib/python3.9/site-packages/seaborn/_decorators.py:36: FutureWarning: Pass the following variables as keyword args: x, y. From version 0.12, the only valid positional argument will be `data`, and passing other arguments without an explicit keyword will result in an error or misinterpretation.\n",
      "  warnings.warn(\n"
     ]
    },
    {
     "data": {
      "text/plain": [
       "<AxesSubplot:xlabel='date', ylabel='quantity'>"
      ]
     },
     "execution_count": 27,
     "metadata": {},
     "output_type": "execute_result"
    },
    {
     "data": {
      "image/png": "[encoded data removed]",
      "text/plain": [
       "<Figure size 432x288 with 1 Axes>"
      ]
     },
     "metadata": {
      "needs_background": "light"
     },
     "output_type": "display_data"
    }
   ],
   "source": [
    "sns.barplot(quan_vs_date.date, quan_vs_date.quantity)"
   ]
  },
  {
   "cell_type": "code",
   "execution_count": 28,
   "metadata": {},
   "outputs": [
    {
     "data": {
      "text/html": [
       "<div>\n",
       "<style scoped>\n",
       "    .dataframe tbody tr th:only-of-type {\n",
       "        vertical-align: middle;\n",
       "    }\n",
       "\n",
       "    .dataframe tbody tr th {\n",
       "        vertical-align: top;\n",
       "    }\n",
       "\n",
       "    .dataframe thead th {\n",
       "        text-align: right;\n",
       "    }\n",
       "</style>\n",
       "<table border=\"1\" class=\"dataframe\">\n",
       "  <thead>\n",
       "    <tr style=\"text-align: right;\">\n",
       "      <th></th>\n",
       "      <th>date</th>\n",
       "      <th>quantity</th>\n",
       "    </tr>\n",
       "  </thead>\n",
       "  <tbody>\n",
       "    <tr>\n",
       "      <th>0</th>\n",
       "      <td>2020-12-03</td>\n",
       "      <td>60</td>\n",
       "    </tr>\n",
       "    <tr>\n",
       "      <th>1</th>\n",
       "      <td>2020-12-04</td>\n",
       "      <td>113</td>\n",
       "    </tr>\n",
       "    <tr>\n",
       "      <th>2</th>\n",
       "      <td>2020-12-05</td>\n",
       "      <td>61</td>\n",
       "    </tr>\n",
       "    <tr>\n",
       "      <th>3</th>\n",
       "      <td>2020-12-06</td>\n",
       "      <td>15</td>\n",
       "    </tr>\n",
       "    <tr>\n",
       "      <th>4</th>\n",
       "      <td>2020-12-07</td>\n",
       "      <td>94</td>\n",
       "    </tr>\n",
       "    <tr>\n",
       "      <th>5</th>\n",
       "      <td>2020-12-08</td>\n",
       "      <td>68</td>\n",
       "    </tr>\n",
       "    <tr>\n",
       "      <th>6</th>\n",
       "      <td>2020-12-09</td>\n",
       "      <td>69</td>\n",
       "    </tr>\n",
       "  </tbody>\n",
       "</table>\n",
       "</div>"
      ],
      "text/plain": [
       "         date  quantity\n",
       "0  2020-12-03        60\n",
       "1  2020-12-04       113\n",
       "2  2020-12-05        61\n",
       "3  2020-12-06        15\n",
       "4  2020-12-07        94\n",
       "5  2020-12-08        68\n",
       "6  2020-12-09        69"
      ]
     },
     "execution_count": 28,
     "metadata": {},
     "output_type": "execute_result"
    }
   ],
   "source": [
    "quan_vs_date"
   ]
  },
  {
   "cell_type": "markdown",
   "metadata": {},
   "source": [
    "**Сколько пользователей приобрели какой-либо товар повторно (более 1 раза)? Повтором будем считать покупку товара с одинаковым product_id, совершенную в разные дни.**\n",
    "\n",
    "**Например, пользователь Sasha Tsarev дважды приобрел товар 6. Поскольку покупка была совершена в один и тот же день, повторной в данном случае она считаться не будет. Katya Skriptsova также сделал две покупки товара 7, но в разные дни, поэтому этот случай засчитывается.**"
   ]
  },
  {
   "cell_type": "code",
   "execution_count": 29,
   "metadata": {},
   "outputs": [],
   "source": [
    "dup = df.drop_duplicates(subset=['product_id', 'name'])"
   ]
  },
  {
   "cell_type": "code",
   "execution_count": 30,
   "metadata": {},
   "outputs": [
    {
     "data": {
      "text/html": [
       "<div>\n",
       "<style scoped>\n",
       "    .dataframe tbody tr th:only-of-type {\n",
       "        vertical-align: middle;\n",
       "    }\n",
       "\n",
       "    .dataframe tbody tr th {\n",
       "        vertical-align: top;\n",
       "    }\n",
       "\n",
       "    .dataframe thead th {\n",
       "        text-align: right;\n",
       "    }\n",
       "</style>\n",
       "<table border=\"1\" class=\"dataframe\">\n",
       "  <thead>\n",
       "    <tr style=\"text-align: right;\">\n",
       "      <th></th>\n",
       "      <th>product_id</th>\n",
       "      <th>quantity</th>\n",
       "      <th>date</th>\n",
       "      <th>name</th>\n",
       "    </tr>\n",
       "  </thead>\n",
       "  <tbody>\n",
       "    <tr>\n",
       "      <th>0</th>\n",
       "      <td>56</td>\n",
       "      <td>4</td>\n",
       "      <td>2020-12-06</td>\n",
       "      <td>Vasiliy_Fedorov</td>\n",
       "    </tr>\n",
       "    <tr>\n",
       "      <th>1</th>\n",
       "      <td>97</td>\n",
       "      <td>3</td>\n",
       "      <td>2020-12-06</td>\n",
       "      <td>Vasiliy_Fedorov</td>\n",
       "    </tr>\n",
       "    <tr>\n",
       "      <th>2</th>\n",
       "      <td>79</td>\n",
       "      <td>3</td>\n",
       "      <td>2020-12-06</td>\n",
       "      <td>Vasiliy_Fedorov</td>\n",
       "    </tr>\n",
       "    <tr>\n",
       "      <th>3</th>\n",
       "      <td>29</td>\n",
       "      <td>5</td>\n",
       "      <td>2020-12-06</td>\n",
       "      <td>Vasiliy_Fedorov</td>\n",
       "    </tr>\n",
       "    <tr>\n",
       "      <th>4</th>\n",
       "      <td>73</td>\n",
       "      <td>5</td>\n",
       "      <td>2020-12-08</td>\n",
       "      <td>Alexey_Fedorov</td>\n",
       "    </tr>\n",
       "    <tr>\n",
       "      <th>...</th>\n",
       "      <td>...</td>\n",
       "      <td>...</td>\n",
       "      <td>...</td>\n",
       "      <td>...</td>\n",
       "    </tr>\n",
       "    <tr>\n",
       "      <th>156</th>\n",
       "      <td>3</td>\n",
       "      <td>4</td>\n",
       "      <td>2020-12-04</td>\n",
       "      <td>Kirill_Fedorov</td>\n",
       "    </tr>\n",
       "    <tr>\n",
       "      <th>157</th>\n",
       "      <td>89</td>\n",
       "      <td>5</td>\n",
       "      <td>2020-12-04</td>\n",
       "      <td>Kirill_Fedorov</td>\n",
       "    </tr>\n",
       "    <tr>\n",
       "      <th>158</th>\n",
       "      <td>75</td>\n",
       "      <td>2</td>\n",
       "      <td>2020-12-04</td>\n",
       "      <td>Kirill_Fedorov</td>\n",
       "    </tr>\n",
       "    <tr>\n",
       "      <th>159</th>\n",
       "      <td>41</td>\n",
       "      <td>5</td>\n",
       "      <td>2020-12-04</td>\n",
       "      <td>Kirill_Fedorov</td>\n",
       "    </tr>\n",
       "    <tr>\n",
       "      <th>160</th>\n",
       "      <td>32</td>\n",
       "      <td>4</td>\n",
       "      <td>2020-12-04</td>\n",
       "      <td>Kirill_Fedorov</td>\n",
       "    </tr>\n",
       "  </tbody>\n",
       "</table>\n",
       "<p>158 rows × 4 columns</p>\n",
       "</div>"
      ],
      "text/plain": [
       "     product_id  quantity        date             name\n",
       "0            56         4  2020-12-06  Vasiliy_Fedorov\n",
       "1            97         3  2020-12-06  Vasiliy_Fedorov\n",
       "2            79         3  2020-12-06  Vasiliy_Fedorov\n",
       "3            29         5  2020-12-06  Vasiliy_Fedorov\n",
       "4            73         5  2020-12-08   Alexey_Fedorov\n",
       "..          ...       ...         ...              ...\n",
       "156           3         4  2020-12-04   Kirill_Fedorov\n",
       "157          89         5  2020-12-04   Kirill_Fedorov\n",
       "158          75         2  2020-12-04   Kirill_Fedorov\n",
       "159          41         5  2020-12-04   Kirill_Fedorov\n",
       "160          32         4  2020-12-04   Kirill_Fedorov\n",
       "\n",
       "[158 rows x 4 columns]"
      ]
     },
     "execution_count": 30,
     "metadata": {},
     "output_type": "execute_result"
    }
   ],
   "source": [
    "dup"
   ]
  },
  {
   "cell_type": "markdown",
   "metadata": {},
   "source": [
    "Другой вариант:"
   ]
  },
  {
   "cell_type": "code",
   "execution_count": 31,
   "metadata": {
    "scrolled": true
   },
   "outputs": [
    {
     "data": {
      "text/html": [
       "<div>\n",
       "<style scoped>\n",
       "    .dataframe tbody tr th:only-of-type {\n",
       "        vertical-align: middle;\n",
       "    }\n",
       "\n",
       "    .dataframe tbody tr th {\n",
       "        vertical-align: top;\n",
       "    }\n",
       "\n",
       "    .dataframe thead th {\n",
       "        text-align: right;\n",
       "    }\n",
       "</style>\n",
       "<table border=\"1\" class=\"dataframe\">\n",
       "  <thead>\n",
       "    <tr style=\"text-align: right;\">\n",
       "      <th></th>\n",
       "      <th></th>\n",
       "      <th>date</th>\n",
       "    </tr>\n",
       "    <tr>\n",
       "      <th>name</th>\n",
       "      <th>product_id</th>\n",
       "      <th></th>\n",
       "    </tr>\n",
       "  </thead>\n",
       "  <tbody>\n",
       "    <tr>\n",
       "      <th>Anton_Ivanov</th>\n",
       "      <th>15</th>\n",
       "      <td>2</td>\n",
       "    </tr>\n",
       "    <tr>\n",
       "      <th>Petr_Fedorov</th>\n",
       "      <th>94</th>\n",
       "      <td>2</td>\n",
       "    </tr>\n",
       "  </tbody>\n",
       "</table>\n",
       "</div>"
      ],
      "text/plain": [
       "                         date\n",
       "name         product_id      \n",
       "Anton_Ivanov 15             2\n",
       "Petr_Fedorov 94             2"
      ]
     },
     "execution_count": 31,
     "metadata": {},
     "output_type": "execute_result"
    }
   ],
   "source": [
    "df.groupby(['name', 'product_id']) \\\n",
    "    .agg({'date': 'nunique'}) \\\n",
    "    .query('date > 1')"
   ]
  },
  {
   "cell_type": "code",
   "execution_count": null,
   "metadata": {},
   "outputs": [],
   "source": []
  }
 ],
 "metadata": {
  "kernelspec": {
   "display_name": "Python 3 (ipykernel)",
   "language": "python",
   "name": "python3"
  },
  "language_info": {
   "codemirror_mode": {
    "name": "ipython",
    "version": 3
   },
   "file_extension": ".py",
   "mimetype": "text/x-python",
   "name": "python",
   "nbconvert_exporter": "python",
   "pygments_lexer": "ipython3",
   "version": "3.9.7"
  }
 },
 "nbformat": 4,
 "nbformat_minor": 4
}
